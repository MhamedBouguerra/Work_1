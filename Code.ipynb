{
 "cells": [
  {
   "cell_type": "markdown",
   "id": "ec6b1344",
   "metadata": {},
   "source": [
    "# Tunisian Vaccine"
   ]
  },
  {
   "cell_type": "code",
   "execution_count": 1,
   "id": "6b0d7316",
   "metadata": {},
   "outputs": [],
   "source": [
    "import pandas as pd\n",
    "import numpy as np\n",
    "import matplotlib.pyplot as plt\n",
    "%matplotlib inline"
   ]
  },
  {
   "cell_type": "code",
   "execution_count": 2,
   "id": "a814600a",
   "metadata": {},
   "outputs": [
    {
     "data": {
      "text/html": [
       "<div>\n",
       "<style scoped>\n",
       "    .dataframe tbody tr th:only-of-type {\n",
       "        vertical-align: middle;\n",
       "    }\n",
       "\n",
       "    .dataframe tbody tr th {\n",
       "        vertical-align: top;\n",
       "    }\n",
       "\n",
       "    .dataframe thead th {\n",
       "        text-align: right;\n",
       "    }\n",
       "</style>\n",
       "<table border=\"1\" class=\"dataframe\">\n",
       "  <thead>\n",
       "    <tr style=\"text-align: right;\">\n",
       "      <th></th>\n",
       "      <th>location</th>\n",
       "      <th>date</th>\n",
       "      <th>vaccine</th>\n",
       "      <th>source_url</th>\n",
       "      <th>total_vaccinations</th>\n",
       "      <th>people_vaccinated</th>\n",
       "      <th>people_fully_vaccinated</th>\n",
       "      <th>total_boosters</th>\n",
       "    </tr>\n",
       "  </thead>\n",
       "  <tbody>\n",
       "    <tr>\n",
       "      <th>0</th>\n",
       "      <td>Tunisia</td>\n",
       "      <td>2021-03-12</td>\n",
       "      <td>Sputnik V</td>\n",
       "      <td>https://www.africanews.com/2021/03/13/tunisia-...</td>\n",
       "      <td>0</td>\n",
       "      <td>0</td>\n",
       "      <td>0.0</td>\n",
       "      <td>NaN</td>\n",
       "    </tr>\n",
       "    <tr>\n",
       "      <th>1</th>\n",
       "      <td>Tunisia</td>\n",
       "      <td>2021-03-13</td>\n",
       "      <td>Sputnik V</td>\n",
       "      <td>https://www.facebook.com/santetunisie.rns.tn/v...</td>\n",
       "      <td>743</td>\n",
       "      <td>743</td>\n",
       "      <td>0.0</td>\n",
       "      <td>NaN</td>\n",
       "    </tr>\n",
       "    <tr>\n",
       "      <th>2</th>\n",
       "      <td>Tunisia</td>\n",
       "      <td>2021-03-14</td>\n",
       "      <td>Sputnik V</td>\n",
       "      <td>https://www.facebook.com/santetunisie.rns.tn/p...</td>\n",
       "      <td>2076</td>\n",
       "      <td>2076</td>\n",
       "      <td>0.0</td>\n",
       "      <td>NaN</td>\n",
       "    </tr>\n",
       "    <tr>\n",
       "      <th>3</th>\n",
       "      <td>Tunisia</td>\n",
       "      <td>2021-03-15</td>\n",
       "      <td>Sputnik V</td>\n",
       "      <td>https://www.facebook.com/186480324724413/posts...</td>\n",
       "      <td>2555</td>\n",
       "      <td>2555</td>\n",
       "      <td>0.0</td>\n",
       "      <td>NaN</td>\n",
       "    </tr>\n",
       "    <tr>\n",
       "      <th>4</th>\n",
       "      <td>Tunisia</td>\n",
       "      <td>2021-03-19</td>\n",
       "      <td>Sputnik V</td>\n",
       "      <td>https://www.facebook.com/186480324724413/posts...</td>\n",
       "      <td>6861</td>\n",
       "      <td>6861</td>\n",
       "      <td>0.0</td>\n",
       "      <td>NaN</td>\n",
       "    </tr>\n",
       "  </tbody>\n",
       "</table>\n",
       "</div>"
      ],
      "text/plain": [
       "  location        date    vaccine  \\\n",
       "0  Tunisia  2021-03-12  Sputnik V   \n",
       "1  Tunisia  2021-03-13  Sputnik V   \n",
       "2  Tunisia  2021-03-14  Sputnik V   \n",
       "3  Tunisia  2021-03-15  Sputnik V   \n",
       "4  Tunisia  2021-03-19  Sputnik V   \n",
       "\n",
       "                                          source_url  total_vaccinations  \\\n",
       "0  https://www.africanews.com/2021/03/13/tunisia-...                   0   \n",
       "1  https://www.facebook.com/santetunisie.rns.tn/v...                 743   \n",
       "2  https://www.facebook.com/santetunisie.rns.tn/p...                2076   \n",
       "3  https://www.facebook.com/186480324724413/posts...                2555   \n",
       "4  https://www.facebook.com/186480324724413/posts...                6861   \n",
       "\n",
       "   people_vaccinated  people_fully_vaccinated  total_boosters  \n",
       "0                  0                      0.0             NaN  \n",
       "1                743                      0.0             NaN  \n",
       "2               2076                      0.0             NaN  \n",
       "3               2555                      0.0             NaN  \n",
       "4               6861                      0.0             NaN  "
      ]
     },
     "execution_count": 2,
     "metadata": {},
     "output_type": "execute_result"
    }
   ],
   "source": [
    "data = pd.read_csv('https://raw.githubusercontent.com/owid/covid-19-data/master/public/data/vaccinations/country_data/Tunisia.csv')\n",
    "data.head(5)"
   ]
  },
  {
   "cell_type": "code",
   "execution_count": 3,
   "id": "5126e3e5",
   "metadata": {},
   "outputs": [
    {
     "data": {
      "text/html": [
       "<div>\n",
       "<style scoped>\n",
       "    .dataframe tbody tr th:only-of-type {\n",
       "        vertical-align: middle;\n",
       "    }\n",
       "\n",
       "    .dataframe tbody tr th {\n",
       "        vertical-align: top;\n",
       "    }\n",
       "\n",
       "    .dataframe thead th {\n",
       "        text-align: right;\n",
       "    }\n",
       "</style>\n",
       "<table border=\"1\" class=\"dataframe\">\n",
       "  <thead>\n",
       "    <tr style=\"text-align: right;\">\n",
       "      <th></th>\n",
       "      <th>date</th>\n",
       "      <th>total_vaccinations</th>\n",
       "      <th>people_vaccinated</th>\n",
       "      <th>people_fully_vaccinated</th>\n",
       "    </tr>\n",
       "  </thead>\n",
       "  <tbody>\n",
       "    <tr>\n",
       "      <th>0</th>\n",
       "      <td>2021-03-12</td>\n",
       "      <td>0</td>\n",
       "      <td>0</td>\n",
       "      <td>0.0</td>\n",
       "    </tr>\n",
       "    <tr>\n",
       "      <th>1</th>\n",
       "      <td>2021-03-13</td>\n",
       "      <td>743</td>\n",
       "      <td>743</td>\n",
       "      <td>0.0</td>\n",
       "    </tr>\n",
       "    <tr>\n",
       "      <th>2</th>\n",
       "      <td>2021-03-14</td>\n",
       "      <td>2076</td>\n",
       "      <td>2076</td>\n",
       "      <td>0.0</td>\n",
       "    </tr>\n",
       "    <tr>\n",
       "      <th>3</th>\n",
       "      <td>2021-03-15</td>\n",
       "      <td>2555</td>\n",
       "      <td>2555</td>\n",
       "      <td>0.0</td>\n",
       "    </tr>\n",
       "    <tr>\n",
       "      <th>4</th>\n",
       "      <td>2021-03-19</td>\n",
       "      <td>6861</td>\n",
       "      <td>6861</td>\n",
       "      <td>0.0</td>\n",
       "    </tr>\n",
       "  </tbody>\n",
       "</table>\n",
       "</div>"
      ],
      "text/plain": [
       "         date  total_vaccinations  people_vaccinated  people_fully_vaccinated\n",
       "0  2021-03-12                   0                  0                      0.0\n",
       "1  2021-03-13                 743                743                      0.0\n",
       "2  2021-03-14                2076               2076                      0.0\n",
       "3  2021-03-15                2555               2555                      0.0\n",
       "4  2021-03-19                6861               6861                      0.0"
      ]
     },
     "execution_count": 3,
     "metadata": {},
     "output_type": "execute_result"
    }
   ],
   "source": [
    "data= data.drop(['vaccine','source_url','location','total_boosters'], axis=1) \n",
    "data.head(5)"
   ]
  },
  {
   "cell_type": "code",
   "execution_count": 4,
   "id": "ac17ae3f",
   "metadata": {},
   "outputs": [
    {
     "data": {
      "text/plain": [
       "date                       0\n",
       "total_vaccinations         0\n",
       "people_vaccinated          0\n",
       "people_fully_vaccinated    3\n",
       "dtype: int64"
      ]
     },
     "execution_count": 4,
     "metadata": {},
     "output_type": "execute_result"
    }
   ],
   "source": [
    "data.isnull().sum()"
   ]
  },
  {
   "cell_type": "code",
   "execution_count": 5,
   "id": "01a0b86e",
   "metadata": {},
   "outputs": [
    {
     "data": {
      "text/html": [
       "<div>\n",
       "<style scoped>\n",
       "    .dataframe tbody tr th:only-of-type {\n",
       "        vertical-align: middle;\n",
       "    }\n",
       "\n",
       "    .dataframe tbody tr th {\n",
       "        vertical-align: top;\n",
       "    }\n",
       "\n",
       "    .dataframe thead th {\n",
       "        text-align: right;\n",
       "    }\n",
       "</style>\n",
       "<table border=\"1\" class=\"dataframe\">\n",
       "  <thead>\n",
       "    <tr style=\"text-align: right;\">\n",
       "      <th></th>\n",
       "      <th>date</th>\n",
       "      <th>total_vaccinations</th>\n",
       "      <th>people_vaccinated</th>\n",
       "      <th>people_fully_vaccinated</th>\n",
       "    </tr>\n",
       "  </thead>\n",
       "  <tbody>\n",
       "  </tbody>\n",
       "</table>\n",
       "</div>"
      ],
      "text/plain": [
       "Empty DataFrame\n",
       "Columns: [date, total_vaccinations, people_vaccinated, people_fully_vaccinated]\n",
       "Index: []"
      ]
     },
     "execution_count": 5,
     "metadata": {},
     "output_type": "execute_result"
    }
   ],
   "source": [
    "data['people_fully_vaccinated'] = data['people_fully_vaccinated'].fillna(0)\n",
    "data[data.isnull().any(axis=1)]"
   ]
  },
  {
   "cell_type": "code",
   "execution_count": 6,
   "id": "97aea6ff",
   "metadata": {},
   "outputs": [
    {
     "data": {
      "text/html": [
       "<div>\n",
       "<style scoped>\n",
       "    .dataframe tbody tr th:only-of-type {\n",
       "        vertical-align: middle;\n",
       "    }\n",
       "\n",
       "    .dataframe tbody tr th {\n",
       "        vertical-align: top;\n",
       "    }\n",
       "\n",
       "    .dataframe thead th {\n",
       "        text-align: right;\n",
       "    }\n",
       "</style>\n",
       "<table border=\"1\" class=\"dataframe\">\n",
       "  <thead>\n",
       "    <tr style=\"text-align: right;\">\n",
       "      <th></th>\n",
       "      <th>total_vaccinations</th>\n",
       "      <th>people_vaccinated</th>\n",
       "      <th>people_fully_vaccinated</th>\n",
       "    </tr>\n",
       "  </thead>\n",
       "  <tbody>\n",
       "    <tr>\n",
       "      <th>count</th>\n",
       "      <td>2.310000e+02</td>\n",
       "      <td>2.310000e+02</td>\n",
       "      <td>2.310000e+02</td>\n",
       "    </tr>\n",
       "    <tr>\n",
       "      <th>mean</th>\n",
       "      <td>4.633212e+06</td>\n",
       "      <td>2.905772e+06</td>\n",
       "      <td>2.056462e+06</td>\n",
       "    </tr>\n",
       "    <tr>\n",
       "      <th>std</th>\n",
       "      <td>3.999629e+06</td>\n",
       "      <td>2.364698e+06</td>\n",
       "      <td>2.019199e+06</td>\n",
       "    </tr>\n",
       "    <tr>\n",
       "      <th>min</th>\n",
       "      <td>0.000000e+00</td>\n",
       "      <td>0.000000e+00</td>\n",
       "      <td>0.000000e+00</td>\n",
       "    </tr>\n",
       "    <tr>\n",
       "      <th>25%</th>\n",
       "      <td>8.426280e+05</td>\n",
       "      <td>5.693150e+05</td>\n",
       "      <td>2.566925e+05</td>\n",
       "    </tr>\n",
       "    <tr>\n",
       "      <th>50%</th>\n",
       "      <td>2.934709e+06</td>\n",
       "      <td>1.807279e+06</td>\n",
       "      <td>8.254100e+05</td>\n",
       "    </tr>\n",
       "    <tr>\n",
       "      <th>75%</th>\n",
       "      <td>8.690304e+06</td>\n",
       "      <td>5.406058e+06</td>\n",
       "      <td>4.197440e+06</td>\n",
       "    </tr>\n",
       "    <tr>\n",
       "      <th>max</th>\n",
       "      <td>1.122558e+07</td>\n",
       "      <td>6.386392e+06</td>\n",
       "      <td>5.451952e+06</td>\n",
       "    </tr>\n",
       "  </tbody>\n",
       "</table>\n",
       "</div>"
      ],
      "text/plain": [
       "       total_vaccinations  people_vaccinated  people_fully_vaccinated\n",
       "count        2.310000e+02       2.310000e+02             2.310000e+02\n",
       "mean         4.633212e+06       2.905772e+06             2.056462e+06\n",
       "std          3.999629e+06       2.364698e+06             2.019199e+06\n",
       "min          0.000000e+00       0.000000e+00             0.000000e+00\n",
       "25%          8.426280e+05       5.693150e+05             2.566925e+05\n",
       "50%          2.934709e+06       1.807279e+06             8.254100e+05\n",
       "75%          8.690304e+06       5.406058e+06             4.197440e+06\n",
       "max          1.122558e+07       6.386392e+06             5.451952e+06"
      ]
     },
     "execution_count": 6,
     "metadata": {},
     "output_type": "execute_result"
    }
   ],
   "source": [
    "data.describe()"
   ]
  },
  {
   "cell_type": "code",
   "execution_count": 7,
   "id": "8a1cb7fc",
   "metadata": {},
   "outputs": [
    {
     "data": {
      "text/html": [
       "<div>\n",
       "<style scoped>\n",
       "    .dataframe tbody tr th:only-of-type {\n",
       "        vertical-align: middle;\n",
       "    }\n",
       "\n",
       "    .dataframe tbody tr th {\n",
       "        vertical-align: top;\n",
       "    }\n",
       "\n",
       "    .dataframe thead th {\n",
       "        text-align: right;\n",
       "    }\n",
       "</style>\n",
       "<table border=\"1\" class=\"dataframe\">\n",
       "  <thead>\n",
       "    <tr style=\"text-align: right;\">\n",
       "      <th></th>\n",
       "      <th>total_vaccinations</th>\n",
       "      <th>people_vaccinated</th>\n",
       "      <th>people_fully_vaccinated</th>\n",
       "    </tr>\n",
       "  </thead>\n",
       "  <tbody>\n",
       "    <tr>\n",
       "      <th>total_vaccinations</th>\n",
       "      <td>1.000000</td>\n",
       "      <td>0.995593</td>\n",
       "      <td>0.992558</td>\n",
       "    </tr>\n",
       "    <tr>\n",
       "      <th>people_vaccinated</th>\n",
       "      <td>0.995593</td>\n",
       "      <td>1.000000</td>\n",
       "      <td>0.981059</td>\n",
       "    </tr>\n",
       "    <tr>\n",
       "      <th>people_fully_vaccinated</th>\n",
       "      <td>0.992558</td>\n",
       "      <td>0.981059</td>\n",
       "      <td>1.000000</td>\n",
       "    </tr>\n",
       "  </tbody>\n",
       "</table>\n",
       "</div>"
      ],
      "text/plain": [
       "                         total_vaccinations  people_vaccinated  \\\n",
       "total_vaccinations                 1.000000           0.995593   \n",
       "people_vaccinated                  0.995593           1.000000   \n",
       "people_fully_vaccinated            0.992558           0.981059   \n",
       "\n",
       "                         people_fully_vaccinated  \n",
       "total_vaccinations                      0.992558  \n",
       "people_vaccinated                       0.981059  \n",
       "people_fully_vaccinated                 1.000000  "
      ]
     },
     "execution_count": 7,
     "metadata": {},
     "output_type": "execute_result"
    }
   ],
   "source": [
    "data.corr()"
   ]
  },
  {
   "cell_type": "code",
   "execution_count": 8,
   "id": "18862e25",
   "metadata": {},
   "outputs": [
    {
     "data": {
      "text/plain": [
       "(231, 4)"
      ]
     },
     "execution_count": 8,
     "metadata": {},
     "output_type": "execute_result"
    }
   ],
   "source": [
    "data.shape"
   ]
  },
  {
   "cell_type": "code",
   "execution_count": 9,
   "id": "e4dd63bc",
   "metadata": {},
   "outputs": [
    {
     "data": {
      "image/png": "[encoded data removed]",
      "text/plain": [
       "<Figure size 864x576 with 9 Axes>"
      ]
     },
     "metadata": {
      "needs_background": "light"
     },
     "output_type": "display_data"
    }
   ],
   "source": [
    "from pandas.plotting import scatter_matrix\n",
    "ls = [\"date\",\"total_vaccinations\", \"people_vaccinated\",\"people_fully_vaccinated\"]\n",
    "scatter_matrix(data[ls], figsize=(12, 8));"
   ]
  },
  {
   "cell_type": "code",
   "execution_count": 10,
   "id": "70b99e76",
   "metadata": {},
   "outputs": [
    {
     "name": "stdout",
     "output_type": "stream",
     "text": [
      "<class 'pandas.core.frame.DataFrame'>\n",
      "RangeIndex: 231 entries, 0 to 230\n",
      "Data columns (total 4 columns):\n",
      " #   Column                   Non-Null Count  Dtype  \n",
      "---  ------                   --------------  -----  \n",
      " 0   date                     231 non-null    object \n",
      " 1   total_vaccinations       231 non-null    int64  \n",
      " 2   people_vaccinated        231 non-null    int64  \n",
      " 3   people_fully_vaccinated  231 non-null    float64\n",
      "dtypes: float64(1), int64(2), object(1)\n",
      "memory usage: 7.3+ KB\n"
     ]
    }
   ],
   "source": [
    "data.info()"
   ]
  },
  {
   "cell_type": "code",
   "execution_count": 11,
   "id": "1b5af7bb",
   "metadata": {},
   "outputs": [
    {
     "data": {
      "text/plain": [
       "<matplotlib.legend.Legend at 0x229cf5dd640>"
      ]
     },
     "execution_count": 11,
     "metadata": {},
     "output_type": "execute_result"
    },
    {
     "data": {
      "image/png": "[encoded data removed]",
      "text/plain": [
       "<Figure size 720x504 with 2 Axes>"
      ]
     },
     "metadata": {
      "needs_background": "light"
     },
     "output_type": "display_data"
    }
   ],
   "source": [
    "data.plot(kind=\"scatter\", x=\"date\", y=\"people_fully_vaccinated\", alpha=0.4,\n",
    " s=data[\"total_vaccinations\"]/100, label=\"total_vaccinations\", figsize=(10,7),\n",
    " c=\"people_fully_vaccinated\", cmap=plt.get_cmap(\"jet\"), colorbar=True,\n",
    ")\n",
    "plt.legend()"
   ]
  },
  {
   "cell_type": "code",
   "execution_count": 12,
   "id": "6c6ec5f5",
   "metadata": {},
   "outputs": [
    {
     "data": {
      "text/plain": [
       "5451952.0"
      ]
     },
     "execution_count": 12,
     "metadata": {},
     "output_type": "execute_result"
    }
   ],
   "source": [
    "#Total des personnes qui sont fini leur vaccination jusqu'a aujourd'hui\n",
    "data.people_fully_vaccinated.max()"
   ]
  },
  {
   "cell_type": "markdown",
   "id": "65100e77",
   "metadata": {},
   "source": [
    "# Parti Machine Learning"
   ]
  },
  {
   "cell_type": "code",
   "execution_count": 13,
   "id": "ff5ae84a",
   "metadata": {},
   "outputs": [
    {
     "data": {
      "text/html": [
       "<div>\n",
       "<style scoped>\n",
       "    .dataframe tbody tr th:only-of-type {\n",
       "        vertical-align: middle;\n",
       "    }\n",
       "\n",
       "    .dataframe tbody tr th {\n",
       "        vertical-align: top;\n",
       "    }\n",
       "\n",
       "    .dataframe thead th {\n",
       "        text-align: right;\n",
       "    }\n",
       "</style>\n",
       "<table border=\"1\" class=\"dataframe\">\n",
       "  <thead>\n",
       "    <tr style=\"text-align: right;\">\n",
       "      <th></th>\n",
       "      <th>date</th>\n",
       "      <th>total_vaccinations</th>\n",
       "      <th>people_vaccinated</th>\n",
       "      <th>people_fully_vaccinated</th>\n",
       "    </tr>\n",
       "  </thead>\n",
       "  <tbody>\n",
       "    <tr>\n",
       "      <th>0</th>\n",
       "      <td>20210312</td>\n",
       "      <td>0</td>\n",
       "      <td>0</td>\n",
       "      <td>0.0</td>\n",
       "    </tr>\n",
       "    <tr>\n",
       "      <th>1</th>\n",
       "      <td>20210313</td>\n",
       "      <td>743</td>\n",
       "      <td>743</td>\n",
       "      <td>0.0</td>\n",
       "    </tr>\n",
       "    <tr>\n",
       "      <th>2</th>\n",
       "      <td>20210314</td>\n",
       "      <td>2076</td>\n",
       "      <td>2076</td>\n",
       "      <td>0.0</td>\n",
       "    </tr>\n",
       "    <tr>\n",
       "      <th>3</th>\n",
       "      <td>20210315</td>\n",
       "      <td>2555</td>\n",
       "      <td>2555</td>\n",
       "      <td>0.0</td>\n",
       "    </tr>\n",
       "    <tr>\n",
       "      <th>4</th>\n",
       "      <td>20210319</td>\n",
       "      <td>6861</td>\n",
       "      <td>6861</td>\n",
       "      <td>0.0</td>\n",
       "    </tr>\n",
       "  </tbody>\n",
       "</table>\n",
       "</div>"
      ],
      "text/plain": [
       "       date  total_vaccinations  people_vaccinated  people_fully_vaccinated\n",
       "0  20210312                   0                  0                      0.0\n",
       "1  20210313                 743                743                      0.0\n",
       "2  20210314                2076               2076                      0.0\n",
       "3  20210315                2555               2555                      0.0\n",
       "4  20210319                6861               6861                      0.0"
      ]
     },
     "execution_count": 13,
     "metadata": {},
     "output_type": "execute_result"
    }
   ],
   "source": [
    "data['date'] = pd.to_numeric(data.date.str.replace('-',''))\n",
    "data.head()"
   ]
  },
  {
   "cell_type": "code",
   "execution_count": 14,
   "id": "ef8297ce",
   "metadata": {},
   "outputs": [],
   "source": [
    "x=data[['date','total_vaccinations']].values\n",
    "y=data[['people_vaccinated']].values"
   ]
  },
  {
   "cell_type": "code",
   "execution_count": 15,
   "id": "56af505d",
   "metadata": {},
   "outputs": [
    {
     "data": {
      "text/plain": [
       "LinearRegression()"
      ]
     },
     "execution_count": 15,
     "metadata": {},
     "output_type": "execute_result"
    }
   ],
   "source": [
    "from sklearn.linear_model import LinearRegression\n",
    "model = LinearRegression()  \n",
    "model.fit(x,y)"
   ]
  },
  {
   "cell_type": "code",
   "execution_count": 16,
   "id": "2157b3cc",
   "metadata": {},
   "outputs": [
    {
     "data": {
      "text/plain": [
       "LinearRegression()"
      ]
     },
     "execution_count": 16,
     "metadata": {},
     "output_type": "execute_result"
    }
   ],
   "source": [
    "from sklearn.model_selection import train_test_split\n",
    "x_train, x_test, y_train, y_test = train_test_split(x, y, test_size=0.2)\n",
    "model2 = LinearRegression() \n",
    "model2.fit(x_train,y_train)"
   ]
  },
  {
   "cell_type": "code",
   "execution_count": 17,
   "id": "5f368066",
   "metadata": {},
   "outputs": [],
   "source": [
    "prediction2=model2.predict(x_train)"
   ]
  },
  {
   "cell_type": "code",
   "execution_count": 18,
   "id": "f5c75e64",
   "metadata": {},
   "outputs": [
    {
     "data": {
      "text/plain": [
       "99.15669230724865"
      ]
     },
     "execution_count": 18,
     "metadata": {},
     "output_type": "execute_result"
    }
   ],
   "source": [
    "score=(model2.score(x_test,y_test))*100\n",
    "score"
   ]
  },
  {
   "cell_type": "code",
   "execution_count": 19,
   "id": "6ffd6226",
   "metadata": {},
   "outputs": [
    {
     "data": {
      "text/plain": [
       "<matplotlib.collections.PathCollection at 0x229d1db2d00>"
      ]
     },
     "execution_count": 19,
     "metadata": {},
     "output_type": "execute_result"
    },
    {
     "data": {
      "image/png": "[encoded data removed]",
      "text/plain": [
       "<Figure size 432x288 with 1 Axes>"
      ]
     },
     "metadata": {
      "needs_background": "light"
     },
     "output_type": "display_data"
    }
   ],
   "source": [
    "plt.scatter(x[:,0],x[:,1])\n",
    "plt.scatter(20211214,10292254,c='red')"
   ]
  },
  {
   "cell_type": "code",
   "execution_count": 20,
   "id": "3f2e5366",
   "metadata": {},
   "outputs": [
    {
     "name": "stdout",
     "output_type": "stream",
     "text": [
      "La Résultat est: 6285030\n"
     ]
    },
    {
     "name": "stderr",
     "output_type": "stream",
     "text": [
      "C:\\ProgramData\\Anaconda3\\lib\\site-packages\\sklearn\\utils\\validation.py:63: FutureWarning: Arrays of bytes/strings is being converted to decimal numbers if dtype='numeric'. This behavior is deprecated in 0.24 and will be removed in 1.1 (renaming of 0.26). Please convert your data to numeric values explicitly instead.\n",
      "  return f(*args, **kwargs)\n"
     ]
    }
   ],
   "source": [
    "#Faire la prédiction de notre saisir randoms\n",
    "pred=model.predict([['20211214','10292254']])\n",
    "print('La Résultat est:',int(pred))"
   ]
  },
  {
   "cell_type": "markdown",
   "id": "71aaa015",
   "metadata": {},
   "source": [
    "# Parti Interface"
   ]
  },
  {
   "cell_type": "code",
   "execution_count": 21,
   "id": "9fa0481d",
   "metadata": {},
   "outputs": [],
   "source": [
    "# importation des bibliothèques des tools QTWidgets\n",
    "from PyQt5 import QtWidgets, uic\n",
    "import sys\n",
    "import webbrowser"
   ]
  },
  {
   "cell_type": "code",
   "execution_count": 22,
   "id": "9c8ee58a",
   "metadata": {},
   "outputs": [],
   "source": [
    "# -----------------------functions Front-------------------------\n",
    "def exit():\n",
    "    Fen.destroy()\n",
    "    Fen2.destroy()\n",
    "def transfert():\n",
    "    Fen2.show() \n",
    "    Fen.destroy()\n",
    "# -----------------------functions Back-------------------------    \n",
    "def lien():\n",
    "     webbrowser.open_new('http://localhost:8888/notebooks/Desktop/WORK2/Code.ipynb')  \n",
    "def trait():\n",
    "    d=Fen2.lineEdit.text()\n",
    "    i=Fen2.lineEdit_2.text()\n",
    "    rt=model.predict([[d,i]])\n",
    "    Fen2.lineEdit_3.setText(str(int(rt)))\n",
    "    rt2=11935764-rt\n",
    "    Fen2.lineEdit_4.setText(str(int(rt2))) "
   ]
  },
  {
   "cell_type": "code",
   "execution_count": null,
   "id": "12abeefb",
   "metadata": {},
   "outputs": [],
   "source": [
    "App =QtWidgets.QApplication(sys.argv)\n",
    "#  ---------------Front-----------------\n",
    "Fen=uic.loadUi('Front.ui')\n",
    "Fen.show()\n",
    "Fen.pushButton.clicked.connect(transfert)\n",
    "Fen.pushButton_2.clicked.connect(exit)\n",
    "# -------------Back--------------\n",
    "Fen2=uic.loadUi('Back.ui')\n",
    "Fen2.pushButton.clicked.connect(trait)\n",
    "Fen2.pushButton_2.clicked.connect(lien)\n",
    "Fen2.pushButton_3.clicked.connect(exit)\n",
    "# -----------Exécutér----------\n",
    "App.exec_()\n",
    "sys.exit()"
   ]
  }
 ],
 "metadata": {
  "kernelspec": {
   "display_name": "Python 3",
   "language": "python",
   "name": "python3"
  },
  "language_info": {
   "codemirror_mode": {
    "name": "ipython",
    "version": 3
   },
   "file_extension": ".py",
   "mimetype": "text/x-python",
   "name": "python",
   "nbconvert_exporter": "python",
   "pygments_lexer": "ipython3",
   "version": "3.8.8"
  }
 },
 "nbformat": 4,
 "nbformat_minor": 5
}
